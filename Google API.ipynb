{
 "cells": [
  {
   "cell_type": "markdown",
   "id": "79cf8d79",
   "metadata": {},
   "source": [
    "## Google Photos API"
   ]
  },
  {
   "cell_type": "markdown",
   "id": "7eac8f7c-932d-486f-900b-9fe3fa178138",
   "metadata": {
    "tags": []
   },
   "source": [
    "## Create virtualenv and install required packages"
   ]
  },
  {
   "cell_type": "markdown",
   "id": "6927380f-c820-4ef4-8f32-e68cbf500709",
   "metadata": {},
   "source": [
    "1. Open terminal and navigate to your working directory\n",
    "\n",
    "2. Create a virtual environment `python3 -m venv venv`\n",
    "\n",
    "3. Add your virtual environment to Jupyter: `python3 -m ipykernel install --user --name=venv`\n",
    "\n",
    "4. Start jupyter notebook or jupyter lab: `jupyter lab .`"
   ]
  },
  {
   "cell_type": "markdown",
   "id": "5434000b-35ff-4aa2-a8b8-cc9a26f548d9",
   "metadata": {
    "tags": []
   },
   "source": [
    "## Enable Google API "
   ]
  },
  {
   "cell_type": "markdown",
   "id": "81fa3746-d4a0-4795-8e5a-226490d6e554",
   "metadata": {},
   "source": [
    "\n",
    "\n",
    "5. Enable Google Photos API Service\n",
    "\n",
    "   1. Go to the [Google API Console](https://console.cloud.google.com/). \n",
    "   2. From the menu bar, select a project or create a new project.\n",
    "      ![](img/create_a_project_google.png)\n",
    "   3. To open the Google API Library, from the Navigation menu, select APIs & Services > Library. \n",
    "   4. Search for \"Google Photos Library API\". Select the correct result and click \"enable\". If its already enabled, click \"manage\"\n",
    "   5. Afterwards it will forward you to the \"Photos API/Service details\" page (https://console.cloud.google.com/apis/credentials)\n",
    "\n",
    "\n",
    "6. Create API/OAuth credentials\n",
    "\n",
    "   1. On the left side at the Google Photos API Service page click on Credentials\n",
    "   2. Click on \"Create Credentials\" and create a OAuth client ID\n",
    "   3. As application type I am choosing \"Desktop app\" and give your client you want to use to call the API a name\n",
    "   4. Download the JSON file to the created credentials, rename it to \"client_secret.json\" and save it in the folder \"credentials\"\n",
    "\n",
    "\n",
    "7. Configure \"OAuth consent screen\" ([Source](https://stackoverflow.com/questions/65184355/error-403-access-denied-from-google-authentication-web-api-despite-google-acc))\n",
    "\n",
    "   1. Go back to the Photos API Service details page and click on \"[OAuth consent screen](https://console.cloud.google.com/apis/credentials/consent)\" on the left side (below \"Credentials\") \n",
    "   2. Add a Test user: Use the email of the account you want to use for testing the API call\n",
    "   "
   ]
  },
  {
   "cell_type": "markdown",
   "id": "290cacec-9573-488d-89a2-67bb22814d69",
   "metadata": {
    "tags": []
   },
   "source": [
    "## Install required packages"
   ]
  },
  {
   "cell_type": "code",
   "execution_count": 1,
   "id": "05a7c7c7-9d39-4b7e-842d-5dadc7a79e43",
   "metadata": {},
   "outputs": [],
   "source": [
    "%%capture capt \n",
    "#saves the output to variable capt, to print output capt.stdout, capt.stderr\n",
    "!pip install google_auth_oauthlib\n",
    "!pip install pip install google-api-python-client"
   ]
  },
  {
   "cell_type": "code",
   "execution_count": 2,
   "id": "91b98718",
   "metadata": {},
   "outputs": [],
   "source": [
    "import pandas as pd\n",
    "\n",
    "# import customized modules\n",
    "import sys\n",
    "import os\n",
    "\n",
    "import sys\n",
    "sys.path.append(r'./helper_scripts')\n",
    "from google_photos_api import GooglePhotosApi"
   ]
  },
  {
   "cell_type": "markdown",
   "id": "498c8c38-d525-462d-b3e6-a16b9da9c7a8",
   "metadata": {
    "tags": []
   },
   "source": [
    "## Utilize Google Photos Library API"
   ]
  },
  {
   "cell_type": "markdown",
   "id": "400d724f-c302-4d5f-b3be-9341a4a0fc84",
   "metadata": {},
   "source": [
    "5. Use the customized funtions from \"google_photos_api.py\" to create a service for the first time:\n",
    "\n",
    "    1. Initialize GooglePhotosApi `google_photos_api = GooglePhotosApi()`\n",
    "\n",
    "    2. Create Service using the `client_secret.json` file: `service = google_photos_api.create_service()`\n",
    "        \n",
    "        \n",
    "       <b>Calling the API for the first time:</b>\n",
    "       1. Google will ask you if you want to grant the App the required permissions you defined with the scope:\n",
    "       ![](img/sign_in_google_acc.png)\n",
    "       2. Since its just a test app at the moment, Google will make you aware of that > Click on \"Continue\"\n",
    "       3. Once you granted the app the required permissions, you will see a \"token_......pickle\" file created in the folder \"credentials\". This token file will be used for future calls."
   ]
  },
  {
   "cell_type": "code",
   "execution_count": 33,
   "id": "33e55f6c-d7a8-4541-961e-b28a768eeec6",
   "metadata": {},
   "outputs": [],
   "source": [
    "import pickle\n",
    "import os\n",
    "from google_auth_oauthlib.flow import Flow, InstalledAppFlow\n",
    "from googleapiclient.discovery import build\n",
    "#from googleapiclient.http import MediaFileUpload\n",
    "from google.auth.transport.requests import Request\n",
    "import requests\n",
    "\n",
    "class GooglePhotosApi:\n",
    "    def __init__(self,\n",
    "                 api_name = 'photoslibrary',\n",
    "                 client_secret_file= r'./credentials/client_secret.json',\n",
    "                 api_version = 'v1',\n",
    "                 scopes = ['https://www.googleapis.com/auth/photoslibrary']):\n",
    "        '''\n",
    "        Args:\n",
    "            client_secret_file: string, location where the requested credentials are saved\n",
    "            api_version: string, the version of the service\n",
    "            api_name: string, name of the api e.g.\"docs\",\"photoslibrary\",...\n",
    "            api_version: version of the api\n",
    "\n",
    "        Return:\n",
    "            service:\n",
    "        '''\n",
    "\n",
    "        self.api_name = api_name\n",
    "        self.client_secret_file = client_secret_file\n",
    "        self.api_version = api_version\n",
    "        self.scopes = scopes\n",
    "        self.cred_pickle_file = f'./credentials/token_{self.api_name}_{self.api_version}.pickle'\n",
    "\n",
    "        self.cred = None\n",
    "\n",
    "    def run_local_server(self):\n",
    "        # is checking if there is already a pickle file with relevant credentials\n",
    "        if os.path.exists(self.cred_pickle_file):\n",
    "            with open(self.cred_pickle_file, 'rb') as token:\n",
    "                self.cred = pickle.load(token)\n",
    "\n",
    "        # if there is no pickle file with stored credentials, create one using google_auth_oauthlib.flow\n",
    "        if not self.cred or not self.cred.valid:\n",
    "            if self.cred and self.cred.expired and self.cred.refresh_token:\n",
    "                self.cred.refresh(Request())\n",
    "            else:\n",
    "                flow = InstalledAppFlow.from_client_secrets_file(self.client_secret_file, self.scopes)\n",
    "                self.cred = flow.run_local_server()\n",
    "\n",
    "            with open(self.cred_pickle_file, 'wb') as token:\n",
    "                pickle.dump(self.cred, token)\n",
    "        \n",
    "        return self.cred\n"
   ]
  },
  {
   "cell_type": "code",
   "execution_count": 34,
   "id": "04f0efa2",
   "metadata": {},
   "outputs": [],
   "source": [
    "# initialize photos api and create service\n",
    "google_photos_api = GooglePhotosApi()\n",
    "creds = google_photos_api.run_local_server()"
   ]
  },
  {
   "cell_type": "markdown",
   "id": "eb37b37d-9c1c-4c88-9f4f-4f2eeefc3c3a",
   "metadata": {},
   "source": [
    "### Get list of all items on a specfic day\n",
    "\n",
    "Use requests python module to send http requests to the Media Items API"
   ]
  },
  {
   "cell_type": "code",
   "execution_count": 74,
   "id": "27ee5847-923b-40f1-87cd-4b935dbd328d",
   "metadata": {},
   "outputs": [],
   "source": [
    "import json\n",
    "import requests\n",
    "\n",
    "def get_response_from_medium_api(year, month, day):\n",
    "    url = 'https://photoslibrary.googleapis.com/v1/mediaItems:search'\n",
    "    payload = {\n",
    "                  \"filters\": {\n",
    "                    \"dateFilter\": {\n",
    "                      \"dates\": [\n",
    "                        {\n",
    "                          \"day\": day,\n",
    "                          \"month\": month,\n",
    "                          \"year\": year\n",
    "                        }\n",
    "                      ]\n",
    "                    }\n",
    "                  }\n",
    "                }\n",
    "    headers = {\n",
    "        'content-type': 'application/json',\n",
    "        'Authorization': 'Bearer {}'.format(creds.token)\n",
    "    }\n",
    "    \n",
    "    res = requests.request(\"POST\", url, data=json.dumps(payload), headers=headers)\n",
    "    \n",
    "    return(res)"
   ]
  },
  {
   "cell_type": "code",
   "execution_count": 83,
   "id": "0cd790ac-1a44-4f79-afb9-1d6621c3f3d9",
   "metadata": {},
   "outputs": [
    {
     "data": {
      "text/html": [
       "<div>\n",
       "<style scoped>\n",
       "    .dataframe tbody tr th:only-of-type {\n",
       "        vertical-align: middle;\n",
       "    }\n",
       "\n",
       "    .dataframe tbody tr th {\n",
       "        vertical-align: top;\n",
       "    }\n",
       "\n",
       "    .dataframe thead th {\n",
       "        text-align: right;\n",
       "    }\n",
       "</style>\n",
       "<table border=\"1\" class=\"dataframe\">\n",
       "  <thead>\n",
       "    <tr style=\"text-align: right;\">\n",
       "      <th></th>\n",
       "      <th>mediaItems</th>\n",
       "    </tr>\n",
       "  </thead>\n",
       "  <tbody>\n",
       "    <tr>\n",
       "      <th>0</th>\n",
       "      <td>{'id': 'AIi7vOhSyVAP16Kno66Gc4VMDqIZ9rpsc0-cwS...</td>\n",
       "    </tr>\n",
       "    <tr>\n",
       "      <th>1</th>\n",
       "      <td>{'id': 'AIi7vOjq5lRrO-IucIWCaRYoPsDraw0-lHha0u...</td>\n",
       "    </tr>\n",
       "    <tr>\n",
       "      <th>2</th>\n",
       "      <td>{'id': 'AIi7vOiaS7LkGmoiW3vtKQ65lI-5qdW9jpyufW...</td>\n",
       "    </tr>\n",
       "    <tr>\n",
       "      <th>3</th>\n",
       "      <td>{'id': 'AIi7vOiExS3-pRXHcUG_YiT9w5b8sIV8HnxZWA...</td>\n",
       "    </tr>\n",
       "  </tbody>\n",
       "</table>\n",
       "</div>"
      ],
      "text/plain": [
       "                                          mediaItems\n",
       "0  {'id': 'AIi7vOhSyVAP16Kno66Gc4VMDqIZ9rpsc0-cwS...\n",
       "1  {'id': 'AIi7vOjq5lRrO-IucIWCaRYoPsDraw0-lHha0u...\n",
       "2  {'id': 'AIi7vOiaS7LkGmoiW3vtKQ65lI-5qdW9jpyufW...\n",
       "3  {'id': 'AIi7vOiExS3-pRXHcUG_YiT9w5b8sIV8HnxZWA..."
      ]
     },
     "execution_count": 83,
     "metadata": {},
     "output_type": "execute_result"
    }
   ],
   "source": [
    "response = get_response_from_medium_api(year=2021, month=3, day=15)\n",
    "\n",
    "#response = requests.request(\"GET\", url, headers=headers)\n",
    "#response.to_json()\n",
    "pd.DataFrame(response.json())"
   ]
  },
  {
   "cell_type": "code",
   "execution_count": 28,
   "id": "c3c848c4-0b49-4b8a-8acf-4af92f277089",
   "metadata": {},
   "outputs": [
    {
     "data": {
      "text/plain": [
       "0     image/jpeg\n",
       "1     image/jpeg\n",
       "2     image/jpeg\n",
       "3     image/jpeg\n",
       "4     image/jpeg\n",
       "5     image/jpeg\n",
       "6     image/jpeg\n",
       "7     image/jpeg\n",
       "8     image/jpeg\n",
       "9     image/jpeg\n",
       "10    image/jpeg\n",
       "Name: mimeType, dtype: object"
      ]
     },
     "execution_count": 28,
     "metadata": {},
     "output_type": "execute_result"
    }
   ],
   "source": [
    "import re\n",
    "\n",
    "def extract_\n",
    "    search_id = r'mimeType\": \"'\n",
    "    results = re.findall(search_id + r'[^\"]*', res.text)\n",
    "    results_df = pd.DataFrame(results)\n",
    "    results_df.columns = ['mimeType']\n",
    "\n",
    "    # delete field description\n",
    "    results_df['mimeType'] = results_df['mimeType'].apply(lambda row: row.replace(search_id, \"\"))\n",
    "    results_df['mimeType']"
   ]
  },
  {
   "cell_type": "code",
   "execution_count": null,
   "id": "d2458f4e-d1e3-40e0-9c7d-a9047f0985c9",
   "metadata": {},
   "outputs": [],
   "source": []
  },
  {
   "cell_type": "code",
   "execution_count": 26,
   "id": "4ef9755b-c5cb-433f-9e35-9085f3d53935",
   "metadata": {},
   "outputs": [
    {
     "data": {
      "text/plain": [
       "0     image/jpeg\n",
       "1     image/jpeg\n",
       "2     image/jpeg\n",
       "3     image/jpeg\n",
       "4     image/jpeg\n",
       "5     image/jpeg\n",
       "6     image/jpeg\n",
       "7     image/jpeg\n",
       "8     image/jpeg\n",
       "9     image/jpeg\n",
       "10    image/jpeg\n",
       "Name: mimeType, dtype: object"
      ]
     },
     "execution_count": 26,
     "metadata": {},
     "output_type": "execute_result"
    }
   ],
   "source": [
    "results_df['mimeType'] = results_df['mimeType'].apply(lambda row: row.replace(search_id, \"\"))\n",
    "results_df['mimeType']"
   ]
  },
  {
   "cell_type": "code",
   "execution_count": 40,
   "id": "8753ce29-782b-48f5-9b06-04d5e9a702fb",
   "metadata": {},
   "outputs": [],
   "source": [
    "response = get_response_from_medium_api(year=2021, month=2, day=15)"
   ]
  },
  {
   "cell_type": "markdown",
   "id": "81a56710-02f5-43bf-af11-844d2b7f414b",
   "metadata": {},
   "source": [
    "\n",
    "6. Calling the API for the first time, \n",
    "   1. Google will ask you if you want to grant the App the required permissions you defined with the scope:\n",
    "   ![](img/sign_in_google_acc.png)\n",
    "   2. Since its just a test app at the moment, Google will make you aware of that > Click on \"Continue\"\n",
    "   3. Once you granted the app the required permissions, you will see a \"token_......pickle\" file created in the folder \"credentials\". This token file will be used for future calls."
   ]
  },
  {
   "cell_type": "markdown",
   "id": "2d7843f4-c2ca-4b43-8d57-bbedea902ad7",
   "metadata": {},
   "source": [
    "## Search for all medium items\n",
    "\n",
    "* Source: https://stackoverflow.com/questions/56294506/mediaitems-search-next-returns-400"
   ]
  },
  {
   "cell_type": "markdown",
   "id": "2c8f6e2b-71cc-46fe-bc1c-f0bc5cb18c3c",
   "metadata": {},
   "source": [
    "## Search for all items\n",
    "\n",
    "* https://developers.google.com/photos/library/reference/rest/v1/mediaItems/search?apix_params=%7B%22resource%22%3A%7B%22filters%22%3A%7B%22dateFilter%22%3A%7B%22dates%22%3A%5B%7B%22day%22%3A1%2C%22month%22%3A1%2C%22year%22%3A2022%7D%5D%7D%7D%7D%7D"
   ]
  },
  {
   "cell_type": "code",
   "execution_count": null,
   "id": "2a834acd-a146-4b5b-8c97-42aabb457de2",
   "metadata": {},
   "outputs": [],
   "source": [
    "# photos API\n",
    "photos_albums_api = service.albums()\n",
    "photos_mediaitems_api = service.mediaItems()\n",
    "\n",
    "albums_list_params = {\n",
    "  \"filters\": {\n",
    "    \"dateFilter\": {\n",
    "      \"dates\": [\n",
    "        {\n",
    "          \"day\": 1,\n",
    "          \"month\": 1,\n",
    "          \"year\": 2022\n",
    "        }\n",
    "      ]\n",
    "    }\n",
    "  }\n",
    "}\n",
    "# first request\n",
    "albums_list_req = photos_mediaitems_api.search(**albums_list_params)\n",
    "photos_albums_list = albums_list_req.execute()"
   ]
  },
  {
   "cell_type": "code",
   "execution_count": null,
   "id": "08e4fda8-c344-4684-b6dc-ce87a6ce1523",
   "metadata": {},
   "outputs": [],
   "source": [
    "url = 'https://photoslibrary.googleapis.com/v1/mediaItems:search'\n",
    "#payload = {'albumId': ALBUM_ID}\n",
    "headers = {\n",
    "    'content-type': 'application/json',\n",
    "    'Authorization': 'Bearer {}'.format(creds.token)\n",
    "}\n",
    "res = requests.post(url, data=json.dumps(payload), headers=headers)\n",
    "print(res.text)"
   ]
  },
  {
   "cell_type": "code",
   "execution_count": null,
   "id": "56f0e130-f938-4742-916c-00ae50dc0199",
   "metadata": {},
   "outputs": [],
   "source": [
    "import requests\n",
    "url = media_items['mediaItems'][0]['productUrl']\n",
    "respons = requests.get(url)\n",
    "file_name = media_items['mediaItems'][0]['filename']\n",
    "with open(os.path.join(destination_folder, file_name), 'wb') as f:\n",
    "    f.write(response.content)\n",
    "    f.close()"
   ]
  },
  {
   "cell_type": "code",
   "execution_count": null,
   "id": "69497c42-d6aa-4110-b6a2-2bf8e0d06d93",
   "metadata": {},
   "outputs": [],
   "source": [
    "import boto3\n",
    "\n",
    "client = boto3.client('s3', region_name='us-west-2')\n",
    "\n",
    "client.upload_file('images/image_0.jpg', 'mybucket', 'image_0.jpg')"
   ]
  }
 ],
 "metadata": {
  "kernelspec": {
   "display_name": "venv",
   "language": "python",
   "name": "venv"
  },
  "language_info": {
   "codemirror_mode": {
    "name": "ipython",
    "version": 3
   },
   "file_extension": ".py",
   "mimetype": "text/x-python",
   "name": "python",
   "nbconvert_exporter": "python",
   "pygments_lexer": "ipython3",
   "version": "3.10.4"
  }
 },
 "nbformat": 4,
 "nbformat_minor": 5
}
