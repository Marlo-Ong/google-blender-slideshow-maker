{
 "cells": [
  {
   "cell_type": "markdown",
   "id": "79cf8d79",
   "metadata": {},
   "source": [
    "## Google Photos API\n",
    "\n",
    "This code samples should\n",
    "- connect to Google Photos API\n",
    "- list all stored Photos in my Google Photos Acc\n",
    "- download specific photos"
   ]
  },
  {
   "cell_type": "code",
   "execution_count": 1,
   "id": "91b98718",
   "metadata": {},
   "outputs": [],
   "source": [
    "import pandas as pd\n",
    "\n",
    "# import customized modules\n",
    "import sys\n",
    "import os\n",
    "sys.path.insert(0,r\".\\helper_scripts\")\n",
    "\n",
    "from google_photos_api import GooglePhotosApi"
   ]
  },
  {
   "cell_type": "code",
   "execution_count": 2,
   "id": "9b8b11d0-9259-4b55-aad5-8ea412e73857",
   "metadata": {},
   "outputs": [
    {
     "data": {
      "text/plain": [
       "'C:\\\\Repos\\\\google-photos-api\\\\GooglePhotosApi'"
      ]
     },
     "execution_count": 2,
     "metadata": {},
     "output_type": "execute_result"
    }
   ],
   "source": [
    "current_directory = os.getcwd()\n",
    "current_directory"
   ]
  },
  {
   "cell_type": "code",
   "execution_count": 3,
   "id": "04f0efa2",
   "metadata": {},
   "outputs": [
    {
     "name": "stdout",
     "output_type": "stream",
     "text": [
      "photoslibrary service created successfully\n"
     ]
    }
   ],
   "source": [
    "# create serice\n",
    "google_photos_api = GooglePhotosApi()\n",
    "service = google_photos_api.create_service()"
   ]
  },
  {
   "cell_type": "code",
   "execution_count": 4,
   "id": "a3691c17-2665-4c3d-ae57-18de03f0032a",
   "metadata": {},
   "outputs": [
    {
     "data": {
      "text/plain": [
       "'C:\\\\Repos\\\\google-photos-api'"
      ]
     },
     "execution_count": 4,
     "metadata": {},
     "output_type": "execute_result"
    }
   ],
   "source": [
    "import os\n",
    "cwd = os.getcwd()\n",
    "cwd"
   ]
  },
  {
   "cell_type": "code",
   "execution_count": 13,
   "id": "1919cd83",
   "metadata": {},
   "outputs": [],
   "source": [
    "# list all media items in Google Photos API\n",
    "media_items = service.mediaItems().search().execute()\n",
    "df = pd.DataFrame(media_items)"
   ]
  },
  {
   "cell_type": "code",
   "execution_count": 27,
   "id": "5b1e5832-d2ab-4f85-9224-d780075b392b",
   "metadata": {},
   "outputs": [
    {
     "data": {
      "text/plain": [
       "'AIi7vOhwO1J_kHWOYvzwnnq0qI6RRYhV4uMjDNVePv-Cgaev_v_BYNwiSVrp8T_7lFe6iPdT-5QkJF6RWWJxSJphygCIioa06g'"
      ]
     },
     "execution_count": 27,
     "metadata": {},
     "output_type": "execute_result"
    }
   ],
   "source": [
    "media_items['mediaItems'][0]['id']"
   ]
  },
  {
   "cell_type": "code",
   "execution_count": 29,
   "id": "b8be31c1-be7e-437b-92c3-dd0c44653ffa",
   "metadata": {},
   "outputs": [
    {
     "name": "stdout",
     "output_type": "stream",
     "text": [
      "['__call__', '__class__', '__delattr__', '__dir__', '__doc__', '__eq__', '__format__', '__func__', '__ge__', '__get__', '__getattribute__', '__gt__', '__hash__', '__init__', '__init_subclass__', '__le__', '__lt__', '__ne__', '__new__', '__reduce__', '__reduce_ex__', '__repr__', '__self__', '__setattr__', '__sizeof__', '__str__', '__subclasshook__']\n"
     ]
    }
   ],
   "source": [
    "print(dir(service.mediaItems().get))"
   ]
  },
  {
   "cell_type": "code",
   "execution_count": 32,
   "id": "8ff03d57-bcf1-48d9-9bf0-9e3ebc85cd7e",
   "metadata": {},
   "outputs": [
    {
     "name": "stdout",
     "output_type": "stream",
     "text": [
      "Help on method method in module googleapiclient.discovery:\n",
      "\n",
      "method(**kwargs) method of googleapiclient.discovery.Resource instance\n",
      "    Returns the media item for the specified media item identifier.\n",
      "    \n",
      "    Args:\n",
      "      mediaItemId: string, Required. Identifier of the media item to be requested. (required)\n",
      "      x__xgafv: string, V1 error format.\n",
      "        Allowed values\n",
      "          1 - v1 error format\n",
      "          2 - v2 error format\n",
      "    \n",
      "    Returns:\n",
      "      An object of the form:\n",
      "    \n",
      "        { # Representation of a media item (such as a photo or video) in Google Photos.\n",
      "      \"baseUrl\": \"A String\", # A URL to the media item's bytes. This shouldn't be used as is. Parameters should be appended to this URL before use. See the [developer documentation](https://developers.google.com/photos/library/guides/access-media-items#base-urls) for a complete list of supported parameters. For example, `'=w2048-h1024'` will set the dimensions of a media item of type photo to have a width of 2048 px and height of 1024 px.\n",
      "      \"contributorInfo\": { # Information about the user who added the media item. Note that this information is included only if the media item is within a shared album created by your app and you have the sharing scope. # Information about the user who added this media item. Note that this is only included when using mediaItems.search with the ID of a shared album. The album must be created by your app and you must have the sharing scope.\n",
      "        \"displayName\": \"A String\", # Display name of the contributor.\n",
      "        \"profilePictureBaseUrl\": \"A String\", # URL to the profile picture of the contributor.\n",
      "      },\n",
      "      \"description\": \"A String\", # Description of the media item. This is shown to the user in the item's info section in the Google Photos app.\n",
      "      \"filename\": \"A String\", # Filename of the media item. This is shown to the user in the item's info section in the Google Photos app.\n",
      "      \"id\": \"A String\", # Identifier for the media item. This is a persistent identifier that can be used between sessions to identify this media item.\n",
      "      \"mediaMetadata\": { # Metadata for a media item. # Metadata related to the media item, such as, height, width, or creation time.\n",
      "        \"creationTime\": \"A String\", # Time when the media item was first created (not when it was uploaded to Google Photos).\n",
      "        \"height\": \"A String\", # Original height (in pixels) of the media item.\n",
      "        \"photo\": { # Metadata that is specific to a photo, such as, ISO, focal length and exposure time. Some of these fields may be null or not included. # Metadata for a photo media type.\n",
      "          \"apertureFNumber\": 3.14, # Aperture f number of the camera lens with which the photo was taken.\n",
      "          \"cameraMake\": \"A String\", # Brand of the camera with which the photo was taken.\n",
      "          \"cameraModel\": \"A String\", # Model of the camera with which the photo was taken.\n",
      "          \"exposureTime\": \"A String\", # Exposure time of the camera aperture when the photo was taken.\n",
      "          \"focalLength\": 3.14, # Focal length of the camera lens with which the photo was taken.\n",
      "          \"isoEquivalent\": 42, # ISO of the camera with which the photo was taken.\n",
      "        },\n",
      "        \"video\": { # Metadata that is specific to a video, for example, fps and processing status. Some of these fields may be null or not included. # Metadata for a video media type.\n",
      "          \"cameraMake\": \"A String\", # Brand of the camera with which the video was taken.\n",
      "          \"cameraModel\": \"A String\", # Model of the camera with which the video was taken.\n",
      "          \"fps\": 3.14, # Frame rate of the video.\n",
      "          \"status\": \"A String\", # Processing status of the video.\n",
      "        },\n",
      "        \"width\": \"A String\", # Original width (in pixels) of the media item.\n",
      "      },\n",
      "      \"mimeType\": \"A String\", # MIME type of the media item. For example, `image/jpeg`.\n",
      "      \"productUrl\": \"A String\", # Google Photos URL for the media item. This link is available to the user only if they're signed in. When retrieved from an album search, the URL points to the item inside the album.\n",
      "    }\n",
      "\n"
     ]
    }
   ],
   "source": [
    "help(service.mediaItems().get)"
   ]
  },
  {
   "cell_type": "code",
   "execution_count": 60,
   "id": "56f0e130-f938-4742-916c-00ae50dc0199",
   "metadata": {},
   "outputs": [
    {
     "ename": "NameError",
     "evalue": "name 'destination_folder' is not defined",
     "output_type": "error",
     "traceback": [
      "\u001b[1;31m---------------------------------------------------------------------------\u001b[0m",
      "\u001b[1;31mNameError\u001b[0m                                 Traceback (most recent call last)",
      "Input \u001b[1;32mIn [60]\u001b[0m, in \u001b[0;36m<cell line: 5>\u001b[1;34m()\u001b[0m\n\u001b[0;32m      3\u001b[0m respons \u001b[38;5;241m=\u001b[39m requests\u001b[38;5;241m.\u001b[39mget(url)\n\u001b[0;32m      4\u001b[0m file_name \u001b[38;5;241m=\u001b[39m media_items[\u001b[38;5;124m'\u001b[39m\u001b[38;5;124mmediaItems\u001b[39m\u001b[38;5;124m'\u001b[39m][\u001b[38;5;241m0\u001b[39m][\u001b[38;5;124m'\u001b[39m\u001b[38;5;124mfilename\u001b[39m\u001b[38;5;124m'\u001b[39m]\n\u001b[1;32m----> 5\u001b[0m \u001b[38;5;28;01mwith\u001b[39;00m \u001b[38;5;28mopen\u001b[39m(os\u001b[38;5;241m.\u001b[39mpath\u001b[38;5;241m.\u001b[39mjoin(\u001b[43mdestination_folder\u001b[49m, file_name), \u001b[38;5;124m'\u001b[39m\u001b[38;5;124mwb\u001b[39m\u001b[38;5;124m'\u001b[39m) \u001b[38;5;28;01mas\u001b[39;00m f:\n\u001b[0;32m      6\u001b[0m     f\u001b[38;5;241m.\u001b[39mwrite(response\u001b[38;5;241m.\u001b[39mcontent)\n\u001b[0;32m      7\u001b[0m     f\u001b[38;5;241m.\u001b[39mclose()\n",
      "\u001b[1;31mNameError\u001b[0m: name 'destination_folder' is not defined"
     ]
    }
   ],
   "source": [
    "import requests\n",
    "url = media_items['mediaItems'][0]['productUrl']\n",
    "respons = requests.get(url)\n",
    "file_name = media_items['mediaItems'][0]['filename']\n",
    "with open(os.path.join(destination_folder, file_name), 'wb') as f:\n",
    "    f.write(response.content)\n",
    "    f.close()"
   ]
  },
  {
   "cell_type": "code",
   "execution_count": 61,
   "id": "69497c42-d6aa-4110-b6a2-2bf8e0d06d93",
   "metadata": {},
   "outputs": [
    {
     "ename": "ModuleNotFoundError",
     "evalue": "No module named 'boto3'",
     "output_type": "error",
     "traceback": [
      "\u001b[1;31m---------------------------------------------------------------------------\u001b[0m",
      "\u001b[1;31mModuleNotFoundError\u001b[0m                       Traceback (most recent call last)",
      "Input \u001b[1;32mIn [61]\u001b[0m, in \u001b[0;36m<cell line: 1>\u001b[1;34m()\u001b[0m\n\u001b[1;32m----> 1\u001b[0m \u001b[38;5;28;01mimport\u001b[39;00m \u001b[38;5;21;01mboto3\u001b[39;00m\n\u001b[0;32m      3\u001b[0m client \u001b[38;5;241m=\u001b[39m boto3\u001b[38;5;241m.\u001b[39mclient(\u001b[38;5;124m'\u001b[39m\u001b[38;5;124ms3\u001b[39m\u001b[38;5;124m'\u001b[39m, region_name\u001b[38;5;241m=\u001b[39m\u001b[38;5;124m'\u001b[39m\u001b[38;5;124mus-west-2\u001b[39m\u001b[38;5;124m'\u001b[39m)\n\u001b[0;32m      5\u001b[0m client\u001b[38;5;241m.\u001b[39mupload_file(\u001b[38;5;124m'\u001b[39m\u001b[38;5;124mimages/image_0.jpg\u001b[39m\u001b[38;5;124m'\u001b[39m, \u001b[38;5;124m'\u001b[39m\u001b[38;5;124mmybucket\u001b[39m\u001b[38;5;124m'\u001b[39m, \u001b[38;5;124m'\u001b[39m\u001b[38;5;124mimage_0.jpg\u001b[39m\u001b[38;5;124m'\u001b[39m)\n",
      "\u001b[1;31mModuleNotFoundError\u001b[0m: No module named 'boto3'"
     ]
    }
   ],
   "source": [
    "import boto3\n",
    "\n",
    "client = boto3.client('s3', region_name='us-west-2')\n",
    "\n",
    "client.upload_file('images/image_0.jpg', 'mybucket', 'image_0.jpg')"
   ]
  },
  {
   "cell_type": "code",
   "execution_count": 63,
   "id": "15ef39f0-72f6-44ff-9dcb-76e6d5e1e1b2",
   "metadata": {},
   "outputs": [
    {
     "ename": "NameError",
     "evalue": "name 'boto3' is not defined",
     "output_type": "error",
     "traceback": [
      "\u001b[1;31m---------------------------------------------------------------------------\u001b[0m",
      "\u001b[1;31mNameError\u001b[0m                                 Traceback (most recent call last)",
      "Input \u001b[1;32mIn [63]\u001b[0m, in \u001b[0;36m<cell line: 1>\u001b[1;34m()\u001b[0m\n\u001b[1;32m----> 1\u001b[0m dynamodb \u001b[38;5;241m=\u001b[39m \u001b[43mboto3\u001b[49m\u001b[38;5;241m.\u001b[39mresource(\u001b[38;5;124m'\u001b[39m\u001b[38;5;124mdynamodb\u001b[39m\u001b[38;5;124m'\u001b[39m, endpoint_url\u001b[38;5;241m=\u001b[39m\u001b[38;5;124m\"\u001b[39m\u001b[38;5;124mhttp://localhost:8000\u001b[39m\u001b[38;5;124m\"\u001b[39m)\n\u001b[0;32m      2\u001b[0m dynamodb\n",
      "\u001b[1;31mNameError\u001b[0m: name 'boto3' is not defined"
     ]
    }
   ],
   "source": [
    "dynamodb = boto3.resource('dynamodb', endpoint_url=\"http://localhost:8000\")\n",
    "dynamodb"
   ]
  },
  {
   "cell_type": "code",
   "execution_count": 37,
   "id": "b21f499b-396b-4f0f-8bd9-f2ffc77163ca",
   "metadata": {},
   "outputs": [
    {
     "data": {
      "text/plain": [
       "['__class__',\n",
       " '__delattr__',\n",
       " '__dict__',\n",
       " '__dir__',\n",
       " '__doc__',\n",
       " '__eq__',\n",
       " '__format__',\n",
       " '__ge__',\n",
       " '__getattribute__',\n",
       " '__gt__',\n",
       " '__hash__',\n",
       " '__init__',\n",
       " '__init_subclass__',\n",
       " '__le__',\n",
       " '__lt__',\n",
       " '__module__',\n",
       " '__ne__',\n",
       " '__new__',\n",
       " '__reduce__',\n",
       " '__reduce_ex__',\n",
       " '__repr__',\n",
       " '__setattr__',\n",
       " '__sizeof__',\n",
       " '__str__',\n",
       " '__subclasshook__',\n",
       " '__weakref__',\n",
       " '_in_error_state',\n",
       " '_process_response',\n",
       " '_rand',\n",
       " '_sleep',\n",
       " 'add_response_callback',\n",
       " 'body',\n",
       " 'body_size',\n",
       " 'execute',\n",
       " 'from_json',\n",
       " 'headers',\n",
       " 'http',\n",
       " 'method',\n",
       " 'methodId',\n",
       " 'next_chunk',\n",
       " 'null_postproc',\n",
       " 'postproc',\n",
       " 'response_callbacks',\n",
       " 'resumable',\n",
       " 'resumable_progress',\n",
       " 'resumable_uri',\n",
       " 'to_json',\n",
       " 'uri']"
      ]
     },
     "execution_count": 37,
     "metadata": {},
     "output_type": "execute_result"
    }
   ],
   "source": [
    "dir(service.mediaItems().get(mediaItemId=media_items['mediaItems'][0]['id']))"
   ]
  },
  {
   "cell_type": "code",
   "execution_count": null,
   "id": "ffffce64-f720-440a-bcda-adc993615bbf",
   "metadata": {},
   "outputs": [],
   "source": []
  }
 ],
 "metadata": {
  "kernelspec": {
   "display_name": "google_api_virtualenv",
   "language": "python",
   "name": "google_api_virtualenv"
  },
  "language_info": {
   "codemirror_mode": {
    "name": "ipython",
    "version": 3
   },
   "file_extension": ".py",
   "mimetype": "text/x-python",
   "name": "python",
   "nbconvert_exporter": "python",
   "pygments_lexer": "ipython3",
   "version": "3.9.6"
  }
 },
 "nbformat": 4,
 "nbformat_minor": 5
}
