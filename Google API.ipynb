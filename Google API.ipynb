{
 "cells": [
  {
   "cell_type": "markdown",
   "id": "79cf8d79",
   "metadata": {},
   "source": [
    "## Google Photos API"
   ]
  },
  {
   "cell_type": "markdown",
   "id": "7eac8f7c-932d-486f-900b-9fe3fa178138",
   "metadata": {
    "tags": []
   },
   "source": [
    "## Create virtualenv and install required packages"
   ]
  },
  {
   "cell_type": "markdown",
   "id": "6927380f-c820-4ef4-8f32-e68cbf500709",
   "metadata": {},
   "source": [
    "1. Open terminal and navigate to your working directory\n",
    "\n",
    "2. Create a virtual environment `python3 -m venv venv`\n",
    "\n",
    "3. Add your virtual environment to Jupyter: `python3 -m ipykernel install --user --name=venv`\n",
    "\n",
    "4. Start jupyter notebook or jupyter lab: `jupyter lab .`"
   ]
  },
  {
   "cell_type": "markdown",
   "id": "5434000b-35ff-4aa2-a8b8-cc9a26f548d9",
   "metadata": {
    "tags": []
   },
   "source": [
    "## Enable Google API "
   ]
  },
  {
   "cell_type": "markdown",
   "id": "81fa3746-d4a0-4795-8e5a-226490d6e554",
   "metadata": {},
   "source": [
    "\n",
    "\n",
    "5. Enable Google Photos API Service\n",
    "\n",
    "   1. Go to the [Google API Console](https://console.cloud.google.com/). \n",
    "   2. From the menu bar, select a project or create a new project.\n",
    "      ![](img/create_a_project_google.png)\n",
    "   3. To open the Google API Library, from the Navigation menu, select APIs & Services > Library. \n",
    "   4. Search for \"Google Photos Library API\". Select the correct result and click \"enable\". If its already enabled, click \"manage\"\n",
    "   5. Afterwards it will forward you to the \"Photos API/Service details\" page (https://console.cloud.google.com/apis/credentials)\n",
    "\n",
    "\n",
    "6. Create API/OAuth credentials\n",
    "\n",
    "   1. On the left side at the Google Photos API Service page click on Credentials\n",
    "   2. Click on \"Create Credentials\" and create a OAuth client ID\n",
    "   3. As application type I am choosing \"Desktop app\" and give your client you want to use to call the API a name\n",
    "   4. Download the JSON file to the created credentials, rename it to \"client_secret.json\" and save it in the folder \"credentials\"\n",
    "\n",
    "\n",
    "7. Configure \"OAuth consent screen\" ([Source](https://stackoverflow.com/questions/65184355/error-403-access-denied-from-google-authentication-web-api-despite-google-acc))\n",
    "\n",
    "   1. Go back to the Photos API Service details page and click on \"[OAuth consent screen](https://console.cloud.google.com/apis/credentials/consent)\" on the left side (below \"Credentials\") \n",
    "   2. Add a Test user: Use the email of the account you want to use for testing the API call\n",
    "   "
   ]
  },
  {
   "cell_type": "markdown",
   "id": "290cacec-9573-488d-89a2-67bb22814d69",
   "metadata": {
    "tags": []
   },
   "source": [
    "## Install required packages"
   ]
  },
  {
   "cell_type": "code",
   "execution_count": 1,
   "id": "05a7c7c7-9d39-4b7e-842d-5dadc7a79e43",
   "metadata": {},
   "outputs": [],
   "source": [
    "%%capture capt \n",
    "#saves the output to variable capt, to print output capt.stdout, capt.stderr\n",
    "!pip install google_auth_oauthlib\n",
    "!pip install pip install google-api-python-client"
   ]
  },
  {
   "cell_type": "code",
   "execution_count": 2,
   "id": "91b98718",
   "metadata": {},
   "outputs": [],
   "source": [
    "import pandas as pd\n",
    "\n",
    "# import customized modules\n",
    "import sys\n",
    "import os\n",
    "\n",
    "import sys\n",
    "sys.path.append(r'./helper_scripts')\n",
    "from google_photos_api import GooglePhotosApi"
   ]
  },
  {
   "cell_type": "markdown",
   "id": "498c8c38-d525-462d-b3e6-a16b9da9c7a8",
   "metadata": {
    "tags": []
   },
   "source": [
    "## Utilize Google Photos Library API"
   ]
  },
  {
   "cell_type": "markdown",
   "id": "400d724f-c302-4d5f-b3be-9341a4a0fc84",
   "metadata": {},
   "source": [
    "5. Use the customized funtions from \"google_photos_api.py\" to create a service for the first time:\n",
    "\n",
    "    1. Initialize GooglePhotosApi `google_photos_api = GooglePhotosApi()`\n",
    "\n",
    "    2. Create Service using the `client_secret.json` file: `service = google_photos_api.create_service()`\n",
    "        \n",
    "        \n",
    "       <b>Calling the API for the first time:</b>\n",
    "       1. Google will ask you if you want to grant the App the required permissions you defined with the scope:\n",
    "       ![](img/sign_in_google_acc.png)\n",
    "       2. Since its just a test app at the moment, Google will make you aware of that > Click on \"Continue\"\n",
    "       3. Once you granted the app the required permissions, you will see a \"token_......pickle\" file created in the folder \"credentials\". This token file will be used for future calls."
   ]
  },
  {
   "cell_type": "code",
   "execution_count": 33,
   "id": "33e55f6c-d7a8-4541-961e-b28a768eeec6",
   "metadata": {},
   "outputs": [],
   "source": [
    "import pickle\n",
    "import os\n",
    "from google_auth_oauthlib.flow import Flow, InstalledAppFlow\n",
    "from googleapiclient.discovery import build\n",
    "#from googleapiclient.http import MediaFileUpload\n",
    "from google.auth.transport.requests import Request\n",
    "import requests\n",
    "\n",
    "class GooglePhotosApi:\n",
    "    def __init__(self,\n",
    "                 api_name = 'photoslibrary',\n",
    "                 client_secret_file= r'./credentials/client_secret.json',\n",
    "                 api_version = 'v1',\n",
    "                 scopes = ['https://www.googleapis.com/auth/photoslibrary']):\n",
    "        '''\n",
    "        Args:\n",
    "            client_secret_file: string, location where the requested credentials are saved\n",
    "            api_version: string, the version of the service\n",
    "            api_name: string, name of the api e.g.\"docs\",\"photoslibrary\",...\n",
    "            api_version: version of the api\n",
    "\n",
    "        Return:\n",
    "            service:\n",
    "        '''\n",
    "\n",
    "        self.api_name = api_name\n",
    "        self.client_secret_file = client_secret_file\n",
    "        self.api_version = api_version\n",
    "        self.scopes = scopes\n",
    "        self.cred_pickle_file = f'./credentials/token_{self.api_name}_{self.api_version}.pickle'\n",
    "\n",
    "        self.cred = None\n",
    "\n",
    "    def run_local_server(self):\n",
    "        # is checking if there is already a pickle file with relevant credentials\n",
    "        if os.path.exists(self.cred_pickle_file):\n",
    "            with open(self.cred_pickle_file, 'rb') as token:\n",
    "                self.cred = pickle.load(token)\n",
    "\n",
    "        # if there is no pickle file with stored credentials, create one using google_auth_oauthlib.flow\n",
    "        if not self.cred or not self.cred.valid:\n",
    "            if self.cred and self.cred.expired and self.cred.refresh_token:\n",
    "                self.cred.refresh(Request())\n",
    "            else:\n",
    "                flow = InstalledAppFlow.from_client_secrets_file(self.client_secret_file, self.scopes)\n",
    "                self.cred = flow.run_local_server()\n",
    "\n",
    "            with open(self.cred_pickle_file, 'wb') as token:\n",
    "                pickle.dump(self.cred, token)\n",
    "        \n",
    "        return self.cred\n"
   ]
  },
  {
   "cell_type": "code",
   "execution_count": 120,
   "id": "04f0efa2",
   "metadata": {},
   "outputs": [],
   "source": [
    "# initialize photos api and create service\n",
    "google_photos_api = GooglePhotosApi()\n",
    "creds = google_photos_api.run_local_server()"
   ]
  },
  {
   "cell_type": "markdown",
   "id": "eb37b37d-9c1c-4c88-9f4f-4f2eeefc3c3a",
   "metadata": {},
   "source": [
    "### Get list of all items on a specfic day\n",
    "\n",
    "Use requests python module to send http requests to the Media Items API\n",
    "\n",
    "Sources:\n",
    "* https://stackoverflow.com/questions/56294506/mediaitems-search-next-returns-400\n",
    "* https://developers.google.com/photos/library/reference/rest/v1/mediaItems/search?apix_params=%7B%22resource%22%3A%7B%22filters%22%3A%7B%22dateFilter%22%3A%7B%22dates%22%3A%5B%7B%22day%22%3A1%2C%22month%22%3A1%2C%22year%22%3A2022%7D%5D%7D%7D%7D%7D"
   ]
  },
  {
   "cell_type": "code",
   "execution_count": 122,
   "id": "27ee5847-923b-40f1-87cd-4b935dbd328d",
   "metadata": {},
   "outputs": [],
   "source": [
    "import json\n",
    "import requests\n",
    "\n",
    "def get_response_from_medium_api(year, month, day):\n",
    "    url = 'https://photoslibrary.googleapis.com/v1/mediaItems:search'\n",
    "    payload = {\n",
    "                  \"filters\": {\n",
    "                    \"dateFilter\": {\n",
    "                      \"dates\": [\n",
    "                        {\n",
    "                          \"day\": day,\n",
    "                          \"month\": month,\n",
    "                          \"year\": year\n",
    "                        }\n",
    "                      ]\n",
    "                    }\n",
    "                  }\n",
    "                }\n",
    "    headers = {\n",
    "        'content-type': 'application/json',\n",
    "        'Authorization': 'Bearer {}'.format(creds.token)\n",
    "    }\n",
    "    \n",
    "    res = requests.request(\"POST\", url, data=json.dumps(payload), headers=headers)\n",
    "    \n",
    "    return(res)"
   ]
  },
  {
   "cell_type": "code",
   "execution_count": 133,
   "id": "a5e06791-0bd8-4283-8efb-f4d9c0d44d36",
   "metadata": {},
   "outputs": [
    {
     "data": {
      "text/plain": [
       "datetime.date(2022, 4, 17)"
      ]
     },
     "execution_count": 133,
     "metadata": {},
     "output_type": "execute_result"
    }
   ],
   "source": [
    "date.today()"
   ]
  },
  {
   "cell_type": "code",
   "execution_count": 138,
   "id": "060339fd-3e18-4aed-9ae5-c5a9a2830d0b",
   "metadata": {},
   "outputs": [
    {
     "data": {
      "text/plain": [
       "DatetimeIndex(['2018-03-22', '2018-03-23', '2018-03-24', '2018-03-25',\n",
       "               '2018-03-26', '2018-03-27', '2018-03-28', '2018-03-29',\n",
       "               '2018-03-30', '2018-03-31',\n",
       "               ...\n",
       "               '2022-04-07', '2022-04-08', '2022-04-09', '2022-04-10',\n",
       "               '2022-04-11', '2022-04-12', '2022-04-13', '2022-04-14',\n",
       "               '2022-04-15', '2022-04-16'],\n",
       "              dtype='datetime64[ns]', length=1487, freq='D')"
      ]
     },
     "execution_count": 138,
     "metadata": {},
     "output_type": "execute_result"
    }
   ],
   "source": [
    "import pandas\n",
    "from datetime import date, timedelta\n",
    "\n",
    "sdate = date(2018,3,22)   # start date\n",
    "edate = date.today()\n",
    "\n",
    "date_list = pandas.date_range(sdate,edate-timedelta(days=1),freq='d')\n",
    "date_list"
   ]
  },
  {
   "cell_type": "code",
   "execution_count": 128,
   "id": "0cd790ac-1a44-4f79-afb9-1d6621c3f3d9",
   "metadata": {},
   "outputs": [
    {
     "data": {
      "text/html": [
       "<div>\n",
       "<style scoped>\n",
       "    .dataframe tbody tr th:only-of-type {\n",
       "        vertical-align: middle;\n",
       "    }\n",
       "\n",
       "    .dataframe tbody tr th {\n",
       "        vertical-align: top;\n",
       "    }\n",
       "\n",
       "    .dataframe thead th {\n",
       "        text-align: right;\n",
       "    }\n",
       "</style>\n",
       "<table border=\"1\" class=\"dataframe\">\n",
       "  <thead>\n",
       "    <tr style=\"text-align: right;\">\n",
       "      <th></th>\n",
       "      <th>id</th>\n",
       "      <th>productUrl</th>\n",
       "      <th>baseUrl</th>\n",
       "      <th>mimeType</th>\n",
       "      <th>mediaMetadata</th>\n",
       "      <th>filename</th>\n",
       "    </tr>\n",
       "  </thead>\n",
       "  <tbody>\n",
       "    <tr>\n",
       "      <th>creationTime</th>\n",
       "      <td>AIi7vOhTgt_ADdnSpXMgUEcv6IDdHmCIphIsoFYpqXJAbM...</td>\n",
       "      <td>https://photos.google.com/lr/photo/AIi7vOhTgt_...</td>\n",
       "      <td>https://lh3.googleusercontent.com/lr/AFBm1_ZZ4...</td>\n",
       "      <td>image/jpeg</td>\n",
       "      <td>2021-01-01T18:50:38Z</td>\n",
       "      <td>IMG-20210101-WA0003.jpg</td>\n",
       "    </tr>\n",
       "    <tr>\n",
       "      <th>creationTime</th>\n",
       "      <td>AIi7vOhTgt_ADdnSpXMgUEcv6IDdHmCIphIsoFYpqXJAbM...</td>\n",
       "      <td>https://photos.google.com/lr/photo/AIi7vOhTgt_...</td>\n",
       "      <td>https://lh3.googleusercontent.com/lr/AFBm1_ZZ4...</td>\n",
       "      <td>image/jpeg</td>\n",
       "      <td>2021-01-01T18:50:38Z</td>\n",
       "      <td>IMG-20210101-WA0003.jpg</td>\n",
       "    </tr>\n",
       "    <tr>\n",
       "      <th>creationTime</th>\n",
       "      <td>AIi7vOiPSVG_e1dGz4wZM8UkIqwKp803RqwTakvu7Ze_lq...</td>\n",
       "      <td>https://photos.google.com/lr/photo/AIi7vOiPSVG...</td>\n",
       "      <td>https://lh3.googleusercontent.com/lr/AFBm1_YPG...</td>\n",
       "      <td>image/jpeg</td>\n",
       "      <td>2021-01-01T18:50:38Z</td>\n",
       "      <td>IMG-20210101-WA0004.jpg</td>\n",
       "    </tr>\n",
       "    <tr>\n",
       "      <th>creationTime</th>\n",
       "      <td>AIi7vOhTgt_ADdnSpXMgUEcv6IDdHmCIphIsoFYpqXJAbM...</td>\n",
       "      <td>https://photos.google.com/lr/photo/AIi7vOhTgt_...</td>\n",
       "      <td>https://lh3.googleusercontent.com/lr/AFBm1_ZZ4...</td>\n",
       "      <td>image/jpeg</td>\n",
       "      <td>2021-01-01T18:50:38Z</td>\n",
       "      <td>IMG-20210101-WA0003.jpg</td>\n",
       "    </tr>\n",
       "    <tr>\n",
       "      <th>creationTime</th>\n",
       "      <td>AIi7vOhTgt_ADdnSpXMgUEcv6IDdHmCIphIsoFYpqXJAbM...</td>\n",
       "      <td>https://photos.google.com/lr/photo/AIi7vOhTgt_...</td>\n",
       "      <td>https://lh3.googleusercontent.com/lr/AFBm1_ZZ4...</td>\n",
       "      <td>image/jpeg</td>\n",
       "      <td>2021-01-01T18:50:38Z</td>\n",
       "      <td>IMG-20210101-WA0003.jpg</td>\n",
       "    </tr>\n",
       "    <tr>\n",
       "      <th>...</th>\n",
       "      <td>...</td>\n",
       "      <td>...</td>\n",
       "      <td>...</td>\n",
       "      <td>...</td>\n",
       "      <td>...</td>\n",
       "      <td>...</td>\n",
       "    </tr>\n",
       "    <tr>\n",
       "      <th>creationTime</th>\n",
       "      <td>AIi7vOilfMPWRa5ukZuPQDG4-3yQiGQW7lq1Xktt2bIcuH...</td>\n",
       "      <td>https://photos.google.com/lr/photo/AIi7vOilfMP...</td>\n",
       "      <td>https://lh3.googleusercontent.com/lr/AFBm1_ZNI...</td>\n",
       "      <td>image/jpeg</td>\n",
       "      <td>2021-01-01T18:50:37Z</td>\n",
       "      <td>IMG-20210101-WA0002.jpg</td>\n",
       "    </tr>\n",
       "    <tr>\n",
       "      <th>creationTime</th>\n",
       "      <td>AIi7vOha3gZjK8FcBUgHd9ZUQh_nbHZBaONZfxrSjjkBHr...</td>\n",
       "      <td>https://photos.google.com/lr/photo/AIi7vOha3gZ...</td>\n",
       "      <td>https://lh3.googleusercontent.com/lr/AFBm1_avb...</td>\n",
       "      <td>image/jpeg</td>\n",
       "      <td>2021-01-01T13:01:43Z</td>\n",
       "      <td>Screenshot_20210101_140143_com.android.chrome.jpg</td>\n",
       "    </tr>\n",
       "    <tr>\n",
       "      <th>creationTime</th>\n",
       "      <td>AIi7vOjpOsxi16X-3ekBmmfTvnOHozmoaaeC7rSgVEOh8z...</td>\n",
       "      <td>https://photos.google.com/lr/photo/AIi7vOjpOsx...</td>\n",
       "      <td>https://lh3.googleusercontent.com/lr/AFBm1_bU2...</td>\n",
       "      <td>image/jpeg</td>\n",
       "      <td>2021-01-01T01:29:20Z</td>\n",
       "      <td>IMG-20210101-WA0001.jpg</td>\n",
       "    </tr>\n",
       "    <tr>\n",
       "      <th>creationTime</th>\n",
       "      <td>AIi7vOifoJsLf7WLdk_ttLmeDcX85PJ4m3IBE1pu_507d_...</td>\n",
       "      <td>https://photos.google.com/lr/photo/AIi7vOifoJs...</td>\n",
       "      <td>https://lh3.googleusercontent.com/lr/AFBm1_bNB...</td>\n",
       "      <td>image/jpeg</td>\n",
       "      <td>2020-12-31T23:27:18Z</td>\n",
       "      <td>IMG-20210101-WA0000.jpg</td>\n",
       "    </tr>\n",
       "    <tr>\n",
       "      <th>creationTime</th>\n",
       "      <td>AIi7vOifoJsLf7WLdk_ttLmeDcX85PJ4m3IBE1pu_507d_...</td>\n",
       "      <td>https://photos.google.com/lr/photo/AIi7vOifoJs...</td>\n",
       "      <td>https://lh3.googleusercontent.com/lr/AFBm1_bNB...</td>\n",
       "      <td>image/jpeg</td>\n",
       "      <td>2020-12-31T23:27:18Z</td>\n",
       "      <td>IMG-20210101-WA0000.jpg</td>\n",
       "    </tr>\n",
       "  </tbody>\n",
       "</table>\n",
       "<p>384 rows × 6 columns</p>\n",
       "</div>"
      ],
      "text/plain": [
       "                                                             id  \\\n",
       "creationTime  AIi7vOhTgt_ADdnSpXMgUEcv6IDdHmCIphIsoFYpqXJAbM...   \n",
       "creationTime  AIi7vOhTgt_ADdnSpXMgUEcv6IDdHmCIphIsoFYpqXJAbM...   \n",
       "creationTime  AIi7vOiPSVG_e1dGz4wZM8UkIqwKp803RqwTakvu7Ze_lq...   \n",
       "creationTime  AIi7vOhTgt_ADdnSpXMgUEcv6IDdHmCIphIsoFYpqXJAbM...   \n",
       "creationTime  AIi7vOhTgt_ADdnSpXMgUEcv6IDdHmCIphIsoFYpqXJAbM...   \n",
       "...                                                         ...   \n",
       "creationTime  AIi7vOilfMPWRa5ukZuPQDG4-3yQiGQW7lq1Xktt2bIcuH...   \n",
       "creationTime  AIi7vOha3gZjK8FcBUgHd9ZUQh_nbHZBaONZfxrSjjkBHr...   \n",
       "creationTime  AIi7vOjpOsxi16X-3ekBmmfTvnOHozmoaaeC7rSgVEOh8z...   \n",
       "creationTime  AIi7vOifoJsLf7WLdk_ttLmeDcX85PJ4m3IBE1pu_507d_...   \n",
       "creationTime  AIi7vOifoJsLf7WLdk_ttLmeDcX85PJ4m3IBE1pu_507d_...   \n",
       "\n",
       "                                                     productUrl  \\\n",
       "creationTime  https://photos.google.com/lr/photo/AIi7vOhTgt_...   \n",
       "creationTime  https://photos.google.com/lr/photo/AIi7vOhTgt_...   \n",
       "creationTime  https://photos.google.com/lr/photo/AIi7vOiPSVG...   \n",
       "creationTime  https://photos.google.com/lr/photo/AIi7vOhTgt_...   \n",
       "creationTime  https://photos.google.com/lr/photo/AIi7vOhTgt_...   \n",
       "...                                                         ...   \n",
       "creationTime  https://photos.google.com/lr/photo/AIi7vOilfMP...   \n",
       "creationTime  https://photos.google.com/lr/photo/AIi7vOha3gZ...   \n",
       "creationTime  https://photos.google.com/lr/photo/AIi7vOjpOsx...   \n",
       "creationTime  https://photos.google.com/lr/photo/AIi7vOifoJs...   \n",
       "creationTime  https://photos.google.com/lr/photo/AIi7vOifoJs...   \n",
       "\n",
       "                                                        baseUrl    mimeType  \\\n",
       "creationTime  https://lh3.googleusercontent.com/lr/AFBm1_ZZ4...  image/jpeg   \n",
       "creationTime  https://lh3.googleusercontent.com/lr/AFBm1_ZZ4...  image/jpeg   \n",
       "creationTime  https://lh3.googleusercontent.com/lr/AFBm1_YPG...  image/jpeg   \n",
       "creationTime  https://lh3.googleusercontent.com/lr/AFBm1_ZZ4...  image/jpeg   \n",
       "creationTime  https://lh3.googleusercontent.com/lr/AFBm1_ZZ4...  image/jpeg   \n",
       "...                                                         ...         ...   \n",
       "creationTime  https://lh3.googleusercontent.com/lr/AFBm1_ZNI...  image/jpeg   \n",
       "creationTime  https://lh3.googleusercontent.com/lr/AFBm1_avb...  image/jpeg   \n",
       "creationTime  https://lh3.googleusercontent.com/lr/AFBm1_bU2...  image/jpeg   \n",
       "creationTime  https://lh3.googleusercontent.com/lr/AFBm1_bNB...  image/jpeg   \n",
       "creationTime  https://lh3.googleusercontent.com/lr/AFBm1_bNB...  image/jpeg   \n",
       "\n",
       "                     mediaMetadata  \\\n",
       "creationTime  2021-01-01T18:50:38Z   \n",
       "creationTime  2021-01-01T18:50:38Z   \n",
       "creationTime  2021-01-01T18:50:38Z   \n",
       "creationTime  2021-01-01T18:50:38Z   \n",
       "creationTime  2021-01-01T18:50:38Z   \n",
       "...                            ...   \n",
       "creationTime  2021-01-01T18:50:37Z   \n",
       "creationTime  2021-01-01T13:01:43Z   \n",
       "creationTime  2021-01-01T01:29:20Z   \n",
       "creationTime  2020-12-31T23:27:18Z   \n",
       "creationTime  2020-12-31T23:27:18Z   \n",
       "\n",
       "                                                       filename  \n",
       "creationTime                            IMG-20210101-WA0003.jpg  \n",
       "creationTime                            IMG-20210101-WA0003.jpg  \n",
       "creationTime                            IMG-20210101-WA0004.jpg  \n",
       "creationTime                            IMG-20210101-WA0003.jpg  \n",
       "creationTime                            IMG-20210101-WA0003.jpg  \n",
       "...                                                         ...  \n",
       "creationTime                            IMG-20210101-WA0002.jpg  \n",
       "creationTime  Screenshot_20210101_140143_com.android.chrome.jpg  \n",
       "creationTime                            IMG-20210101-WA0001.jpg  \n",
       "creationTime                            IMG-20210101-WA0000.jpg  \n",
       "creationTime                            IMG-20210101-WA0000.jpg  \n",
       "\n",
       "[384 rows x 6 columns]"
      ]
     },
     "execution_count": 128,
     "metadata": {},
     "output_type": "execute_result"
    }
   ],
   "source": [
    "response = get_response_from_medium_api(year=2021, month=1, day=1)\n",
    "\n",
    "#response = requests.request(\"GET\", url, headers=headers)\n",
    "#response.to_json()\n",
    "media_items_df = pd.DataFrame()\n",
    "\n",
    "for item in response.json()['mediaItems']:\n",
    "    item_df = pd.concat([test, pd.DataFrame(item)])\n",
    "    item_df = item_df[item_df.index == 'creationTime']\n",
    "    #print(item)\n",
    "    #test.append(pd.DataFrame(item))\n",
    "    media_items_df = pd.concat([media_items_df, item_df])\n",
    "media_items_df\n",
    "media_items_df.rename(columns={\"mediaMetadata\": \"creationTime\"})\n",
    "media_items_df\n",
    "#media_items_df.set_index('creationTime')\n",
    "#item = pd.DataFrame(response.json()['mediaItems'][1])\n",
    "#item = item[item.index == 'creationTime']"
   ]
  },
  {
   "cell_type": "code",
   "execution_count": 91,
   "id": "48c14f7e-c24f-4528-886f-eb13213ca3d3",
   "metadata": {},
   "outputs": [
    {
     "data": {
      "text/html": [
       "<div>\n",
       "<style scoped>\n",
       "    .dataframe tbody tr th:only-of-type {\n",
       "        vertical-align: middle;\n",
       "    }\n",
       "\n",
       "    .dataframe tbody tr th {\n",
       "        vertical-align: top;\n",
       "    }\n",
       "\n",
       "    .dataframe thead th {\n",
       "        text-align: right;\n",
       "    }\n",
       "</style>\n",
       "<table border=\"1\" class=\"dataframe\">\n",
       "  <thead>\n",
       "    <tr style=\"text-align: right;\">\n",
       "      <th></th>\n",
       "    </tr>\n",
       "  </thead>\n",
       "  <tbody>\n",
       "  </tbody>\n",
       "</table>\n",
       "</div>"
      ],
      "text/plain": [
       "Empty DataFrame\n",
       "Columns: []\n",
       "Index: []"
      ]
     },
     "execution_count": 91,
     "metadata": {},
     "output_type": "execute_result"
    }
   ],
   "source": [
    "test"
   ]
  },
  {
   "cell_type": "code",
   "execution_count": 125,
   "id": "5c21d7e8-4c1d-472a-96fa-521a9770ff64",
   "metadata": {},
   "outputs": [
    {
     "data": {
      "text/plain": [
       "{'id': 'AIi7vOhTgt_ADdnSpXMgUEcv6IDdHmCIphIsoFYpqXJAbM_G7RdS1TrQ_23j6FmarihWbg-0q4DAbiFp_znm5MX_7lEFy-y5Cw',\n",
       " 'productUrl': 'https://photos.google.com/lr/photo/AIi7vOhTgt_ADdnSpXMgUEcv6IDdHmCIphIsoFYpqXJAbM_G7RdS1TrQ_23j6FmarihWbg-0q4DAbiFp_znm5MX_7lEFy-y5Cw',\n",
       " 'baseUrl': 'https://lh3.googleusercontent.com/lr/AFBm1_ZZ4khdEAT0THNkaJJTtVVUSFAo_OTRIV-JebbdCy1jW4xelcLHdoqE9_7VWCE6GmId-rZ4HM5aB6Uu3uiSfcV4sPBmf-a-CMrpskzeVU76Lj0Xn_di6d_Q2zPZriZO7B-Uu2yqf1njURBKUEmEy_U_0jNYTTJczJMBIKD3N5N_S_iUnb4X4y0HATtnbcQX54kUy2YhFCo79y57wjYJSkFteoda3eiLaETxmorcqzDZTBgg1qdin2Hg_i0gW8gs_IFBq5wH-x6RNV1c3WH9Hngoo8Awq2twnJqByQw0psoX1zhyjdaNiruX1pkFDKKRzT2Pwwi-70yG_JJ61urKdLvjxyeGPUPZXo6ZIcXie5NvMSYJ42FPmrkldmfkr2m8VbHBSNNB22TuF63KkYR4hNBx6tbYamxtZdiCB-gEbaREhjkOABwjt9oT5Ze1kowmtogXNaO1KEa2uX_h4Rjz2Sinbn-aZ7O47ai10EfvPJKVgXbadIcYTrqX_6aSd7lO-sSqx1tXzyXN1tpPvqTQqFR76aOyOkuEzd5qlQ_dVbXE4v35Q-C-aXr-weJVpGCtyHRbXi5EcZvxtG40xe6pyQzTkBSZIvuVRVGJnbPedfx34PH-vLsOdIlcCFzt-Hl2sGigU_QjuAvv_P3FmVtLbPOQTLJhBI3oAfzg5NIOfbTmhwXhzgDROnhX54tb9Gb2XO0P4BnwAzBez38bYqWQXPAN6n12MjLgFXf725OtU9AiVLhYDzJU32HzmfiGOzSXGZg3M1B_vcWlHQ_PAGdu5B8mkZ3Q9QNCi1talV2Jl-5H6ToNIgSo8oN5_RmWAhRnDxGPKPyAkCaJRk69wo7vtx2R1Hd99AvMvFKVaX1IKP7R5tB5fZaNwWCgzZSxzetpih3c',\n",
       " 'mimeType': 'image/jpeg',\n",
       " 'mediaMetadata': {'creationTime': '2021-01-01T18:50:38Z',\n",
       "  'width': '899',\n",
       "  'height': '1599',\n",
       "  'photo': {}},\n",
       " 'filename': 'IMG-20210101-WA0003.jpg'}"
      ]
     },
     "execution_count": 125,
     "metadata": {},
     "output_type": "execute_result"
    }
   ],
   "source": [
    "response.json()['mediaItems'][0]"
   ]
  },
  {
   "cell_type": "code",
   "execution_count": 28,
   "id": "c3c848c4-0b49-4b8a-8acf-4af92f277089",
   "metadata": {},
   "outputs": [
    {
     "data": {
      "text/plain": [
       "0     image/jpeg\n",
       "1     image/jpeg\n",
       "2     image/jpeg\n",
       "3     image/jpeg\n",
       "4     image/jpeg\n",
       "5     image/jpeg\n",
       "6     image/jpeg\n",
       "7     image/jpeg\n",
       "8     image/jpeg\n",
       "9     image/jpeg\n",
       "10    image/jpeg\n",
       "Name: mimeType, dtype: object"
      ]
     },
     "execution_count": 28,
     "metadata": {},
     "output_type": "execute_result"
    }
   ],
   "source": [
    "import re\n",
    "\n",
    "def extract_\n",
    "    search_id = r'mimeType\": \"'\n",
    "    results = re.findall(search_id + r'[^\"]*', res.text)\n",
    "    results_df = pd.DataFrame(results)\n",
    "    results_df.columns = ['mimeType']\n",
    "\n",
    "    # delete field description\n",
    "    results_df['mimeType'] = results_df['mimeType'].apply(lambda row: row.replace(search_id, \"\"))\n",
    "    results_df['mimeType']"
   ]
  },
  {
   "cell_type": "code",
   "execution_count": null,
   "id": "d2458f4e-d1e3-40e0-9c7d-a9047f0985c9",
   "metadata": {},
   "outputs": [],
   "source": []
  },
  {
   "cell_type": "code",
   "execution_count": 26,
   "id": "4ef9755b-c5cb-433f-9e35-9085f3d53935",
   "metadata": {},
   "outputs": [
    {
     "data": {
      "text/plain": [
       "0     image/jpeg\n",
       "1     image/jpeg\n",
       "2     image/jpeg\n",
       "3     image/jpeg\n",
       "4     image/jpeg\n",
       "5     image/jpeg\n",
       "6     image/jpeg\n",
       "7     image/jpeg\n",
       "8     image/jpeg\n",
       "9     image/jpeg\n",
       "10    image/jpeg\n",
       "Name: mimeType, dtype: object"
      ]
     },
     "execution_count": 26,
     "metadata": {},
     "output_type": "execute_result"
    }
   ],
   "source": [
    "results_df['mimeType'] = results_df['mimeType'].apply(lambda row: row.replace(search_id, \"\"))\n",
    "results_df['mimeType']"
   ]
  },
  {
   "cell_type": "code",
   "execution_count": 40,
   "id": "8753ce29-782b-48f5-9b06-04d5e9a702fb",
   "metadata": {},
   "outputs": [],
   "source": [
    "response = get_response_from_medium_api(year=2021, month=2, day=15)"
   ]
  },
  {
   "cell_type": "markdown",
   "id": "ce359905-f68a-4f3c-9647-ae5cb939f99e",
   "metadata": {},
   "source": [
    "## Download images"
   ]
  },
  {
   "cell_type": "code",
   "execution_count": null,
   "id": "56f0e130-f938-4742-916c-00ae50dc0199",
   "metadata": {},
   "outputs": [],
   "source": [
    "import requests\n",
    "url = media_items['mediaItems'][0]['productUrl']\n",
    "respons = requests.get(url)\n",
    "file_name = media_items['mediaItems'][0]['filename']\n",
    "with open(os.path.join(destination_folder, file_name), 'wb') as f:\n",
    "    f.write(response.content)\n",
    "    f.close()"
   ]
  },
  {
   "cell_type": "markdown",
   "id": "1570fc52-9d3a-4c8d-8e34-ad6015927adc",
   "metadata": {},
   "source": [
    "## Upload files to AWS"
   ]
  },
  {
   "cell_type": "code",
   "execution_count": null,
   "id": "69497c42-d6aa-4110-b6a2-2bf8e0d06d93",
   "metadata": {},
   "outputs": [],
   "source": [
    "import boto3\n",
    "\n",
    "client = boto3.client('s3', region_name='us-west-2')\n",
    "\n",
    "client.upload_file('images/image_0.jpg', 'mybucket', 'image_0.jpg')"
   ]
  }
 ],
 "metadata": {
  "kernelspec": {
   "display_name": "venv",
   "language": "python",
   "name": "venv"
  },
  "language_info": {
   "codemirror_mode": {
    "name": "ipython",
    "version": 3
   },
   "file_extension": ".py",
   "mimetype": "text/x-python",
   "name": "python",
   "nbconvert_exporter": "python",
   "pygments_lexer": "ipython3",
   "version": "3.10.4"
  }
 },
 "nbformat": 4,
 "nbformat_minor": 5
}
