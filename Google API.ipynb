{
 "cells": [
  {
   "cell_type": "markdown",
   "id": "79cf8d79",
   "metadata": {},
   "source": [
    "## Google Photos API"
   ]
  },
  {
   "cell_type": "markdown",
   "id": "7eac8f7c-932d-486f-900b-9fe3fa178138",
   "metadata": {
    "tags": []
   },
   "source": [
    "## Create virtualenv and install required packages"
   ]
  },
  {
   "cell_type": "markdown",
   "id": "6927380f-c820-4ef4-8f32-e68cbf500709",
   "metadata": {},
   "source": [
    "1. Open terminal and navigate to your working directory\n",
    "\n",
    "2. Create a virtual environment `python3 -m venv venv`\n",
    "\n",
    "3. Add your virtual environment to Jupyter: `python3 -m ipykernel install --user --name=venv`\n",
    "\n",
    "4. Start jupyter notebook or jupyter lab: `jupyter lab .`"
   ]
  },
  {
   "cell_type": "markdown",
   "id": "5434000b-35ff-4aa2-a8b8-cc9a26f548d9",
   "metadata": {
    "tags": []
   },
   "source": [
    "## Enable Google API "
   ]
  },
  {
   "cell_type": "markdown",
   "id": "81fa3746-d4a0-4795-8e5a-226490d6e554",
   "metadata": {},
   "source": [
    "\n",
    "\n",
    "5. Enable Google Photos API Service\n",
    "\n",
    "   1. Go to the Google API Console [https://console.cloud.google.com/](https://console.cloud.google.com/). \n",
    "   2. From the menu bar, select a project or create a new project.\n",
    "      ![](read_me_img/create_a_project_google.png)\n",
    "   3. To open the Google API Library, from the Navigation menu, select APIs & Services > Library. \n",
    "   4. Search for \"Google Photos Library API\". Select the correct result and click \"enable\". If its already enabled, click \"manage\"\n",
    "   5. Afterwards it will forward you to the \"Photos API/Service details\" page (https://console.cloud.google.com/apis/credentials)\n",
    "\n",
    "\n",
    "6. Create API/OAuth credentials\n",
    "\n",
    "   1. On the left side at the Google Photos API Service page click on Credentials\n",
    "   2. Click on \"Create Credentials\" and create a OAuth client ID\n",
    "   3. As application type I am choosing \"Desktop app\" and give your client you want to use to call the API a name\n",
    "   4. Download the JSON file to the created credentials, rename it to \"client_secret.json\" and save it in the folder \"credentials\"\n",
    "\n",
    "\n",
    "7. Configure \"OAuth consent screen\" ([Source](https://stackoverflow.com/questions/65184355/error-403-access-denied-from-google-authentication-web-api-despite-google-acc))\n",
    "\n",
    "   1. Go back to the Photos API Service details page and click on \"[OAuth consent screen](https://console.cloud.google.com/apis/credentials/consent)\" on the left side (below \"Credentials\") \n",
    "   2. Add a Test user: Use the email of the account you want to use for testing the API call\n",
    "   "
   ]
  },
  {
   "cell_type": "markdown",
   "id": "290cacec-9573-488d-89a2-67bb22814d69",
   "metadata": {
    "tags": []
   },
   "source": [
    "## Install required packages"
   ]
  },
  {
   "cell_type": "code",
   "execution_count": 58,
   "id": "05a7c7c7-9d39-4b7e-842d-5dadc7a79e43",
   "metadata": {},
   "outputs": [],
   "source": [
    "%%capture capt \n",
    "#saves the output to variable capt, to print output capt.stdout, capt.stderr\n",
    "!pip install google_auth_oauthlib\n",
    "!pip install pip install google-api-python-client"
   ]
  },
  {
   "cell_type": "code",
   "execution_count": 59,
   "id": "91b98718",
   "metadata": {},
   "outputs": [],
   "source": [
    "import pandas as pd\n",
    "\n",
    "# import customized modules\n",
    "import sys\n",
    "import os\n",
    "\n",
    "import sys\n",
    "sys.path.append(r'./helper_scripts')\n",
    "from google_photos_api import GooglePhotosApi"
   ]
  },
  {
   "cell_type": "markdown",
   "id": "498c8c38-d525-462d-b3e6-a16b9da9c7a8",
   "metadata": {
    "tags": []
   },
   "source": [
    "## Utilize Google Photos Library API"
   ]
  },
  {
   "cell_type": "markdown",
   "id": "400d724f-c302-4d5f-b3be-9341a4a0fc84",
   "metadata": {},
   "source": [
    "5. Use the customized funtions from \"google_photos_api.py\" to create a service for the first time:\n",
    "\n",
    "    1. Initialize GooglePhotosApi `google_photos_api = GooglePhotosApi()`\n",
    "\n",
    "    2. Create Service using the `client_secret.json` file: `service = google_photos_api.create_service()`\n",
    "        \n",
    "        \n",
    "       <b>Calling the API for the first time:</b>\n",
    "       1. Google will ask you if you want to grant the App the required permissions you defined with the scope:\n",
    "       ![](read_me_img/sign_in_google_acc.png)\n",
    "       2. Since its just a test app at the moment, Google will make you aware of that > Click on \"Continue\"\n",
    "       3. Once you granted the app the required permissions, you will see a \"token_......pickle\" file created in the folder \"credentials\". This token file will be used for future calls."
   ]
  },
  {
   "cell_type": "code",
   "execution_count": 60,
   "id": "33e55f6c-d7a8-4541-961e-b28a768eeec6",
   "metadata": {},
   "outputs": [],
   "source": [
    "import pickle\n",
    "import os\n",
    "from google_auth_oauthlib.flow import Flow, InstalledAppFlow\n",
    "from googleapiclient.discovery import build\n",
    "#from googleapiclient.http import MediaFileUpload\n",
    "from google.auth.transport.requests import Request\n",
    "import requests\n",
    "\n",
    "class GooglePhotosApi:\n",
    "    def __init__(self,\n",
    "                 api_name = 'photoslibrary',\n",
    "                 client_secret_file= r'./credentials/client_secret.json',\n",
    "                 api_version = 'v1',\n",
    "                 scopes = ['https://www.googleapis.com/auth/photoslibrary']):\n",
    "        '''\n",
    "        Args:\n",
    "            client_secret_file: string, location where the requested credentials are saved\n",
    "            api_version: string, the version of the service\n",
    "            api_name: string, name of the api e.g.\"docs\",\"photoslibrary\",...\n",
    "            api_version: version of the api\n",
    "\n",
    "        Return:\n",
    "            service:\n",
    "        '''\n",
    "\n",
    "        self.api_name = api_name\n",
    "        self.client_secret_file = client_secret_file\n",
    "        self.api_version = api_version\n",
    "        self.scopes = scopes\n",
    "        self.cred_pickle_file = f'./credentials/token_{self.api_name}_{self.api_version}.pickle'\n",
    "\n",
    "        self.cred = None\n",
    "\n",
    "    def run_local_server(self):\n",
    "        # is checking if there is already a pickle file with relevant credentials\n",
    "        if os.path.exists(self.cred_pickle_file):\n",
    "            with open(self.cred_pickle_file, 'rb') as token:\n",
    "                self.cred = pickle.load(token)\n",
    "\n",
    "        # if there is no pickle file with stored credentials, create one using google_auth_oauthlib.flow\n",
    "        if not self.cred or not self.cred.valid:\n",
    "            if self.cred and self.cred.expired and self.cred.refresh_token:\n",
    "                self.cred.refresh(Request())\n",
    "            else:\n",
    "                flow = InstalledAppFlow.from_client_secrets_file(self.client_secret_file, self.scopes)\n",
    "                self.cred = flow.run_local_server()\n",
    "\n",
    "            with open(self.cred_pickle_file, 'wb') as token:\n",
    "                pickle.dump(self.cred, token)\n",
    "        \n",
    "        return self.cred\n"
   ]
  },
  {
   "cell_type": "code",
   "execution_count": 61,
   "id": "04f0efa2",
   "metadata": {},
   "outputs": [],
   "source": [
    "# initialize photos api and create service\n",
    "google_photos_api = GooglePhotosApi()\n",
    "creds = google_photos_api.run_local_server()"
   ]
  },
  {
   "cell_type": "markdown",
   "id": "eb37b37d-9c1c-4c88-9f4f-4f2eeefc3c3a",
   "metadata": {},
   "source": [
    "### Get list of all items on a specfic day\n",
    "\n",
    "Use requests python module to send http requests to the Media Items API\n",
    "\n",
    "Sources:\n",
    "* https://stackoverflow.com/questions/56294506/mediaitems-search-next-returns-400\n",
    "* https://developers.google.com/photos/library/reference/rest/v1/mediaItems/search?apix_params=%7B%22resource%22%3A%7B%22filters%22%3A%7B%22dateFilter%22%3A%7B%22dates%22%3A%5B%7B%22day%22%3A1%2C%22month%22%3A1%2C%22year%22%3A2022%7D%5D%7D%7D%7D%7D"
   ]
  },
  {
   "cell_type": "markdown",
   "id": "26992d15-30c0-4827-85f0-fdd4be313ad0",
   "metadata": {},
   "source": [
    "Send a post request to the media API to get a list with all items. Since the API return is limited to 100 items, the search is narrowed down to one day. With this, the call would only have a problem if more than 100 images were made/uploaded in one day."
   ]
  },
  {
   "cell_type": "code",
   "execution_count": 62,
   "id": "27ee5847-923b-40f1-87cd-4b935dbd328d",
   "metadata": {},
   "outputs": [],
   "source": [
    "import json\n",
    "import requests\n",
    "\n",
    "def get_response_from_medium_api(year, month, day):\n",
    "    url = 'https://photoslibrary.googleapis.com/v1/mediaItems:search'\n",
    "    payload = {\n",
    "                  \"filters\": {\n",
    "                    \"dateFilter\": {\n",
    "                      \"dates\": [\n",
    "                        {\n",
    "                          \"day\": day,\n",
    "                          \"month\": month,\n",
    "                          \"year\": year\n",
    "                        }\n",
    "                      ]\n",
    "                    }\n",
    "                  }\n",
    "                }\n",
    "    headers = {\n",
    "        'content-type': 'application/json',\n",
    "        'Authorization': 'Bearer {}'.format(creds.token)\n",
    "    }\n",
    "    \n",
    "    res = requests.request(\"POST\", url, data=json.dumps(payload), headers=headers)\n",
    "    \n",
    "    return(res)"
   ]
  },
  {
   "cell_type": "markdown",
   "id": "10a38726-10aa-47d8-9f57-4d575ce57193",
   "metadata": {},
   "source": [
    "Now use the response of the API to write the results and required metadata into a data frame."
   ]
  },
  {
   "cell_type": "code",
   "execution_count": 89,
   "id": "0cd790ac-1a44-4f79-afb9-1d6621c3f3d9",
   "metadata": {},
   "outputs": [],
   "source": [
    "def list_of_media_items(year, month, day, media_items_df):\n",
    "    '''\n",
    "    Args:\n",
    "        year, month, day: day for the filter of the API call \n",
    "        media_items_df: existing data frame with all find media items so far\n",
    "    Return:\n",
    "        media_items_df: media items data frame extended by the articles found for the specified tag\n",
    "    '''\n",
    "\n",
    "    # create request for specified date\n",
    "    response = get_response_from_medium_api(year, month, day)\n",
    "\n",
    "    try:\n",
    "        for item in response.json()['mediaItems']:\n",
    "            item_df = pd.DataFrame(item)\n",
    "            item_df = item_df.rename(columns={\"mediaMetadata\": \"creationTime\"})\n",
    "            item_df.set_index('creationTime')\n",
    "            item_df = item_df[item_df.index == 'creationTime']\n",
    "            #print(item_df)\n",
    "            #append the existing media_items data frame\n",
    "            media_items_df = pd.concat([media_items_df, item_df])\n",
    "    except:\n",
    "        print(response.text)\n",
    "\n",
    "    return(media_items_df)"
   ]
  },
  {
   "cell_type": "code",
   "execution_count": null,
   "id": "e31b3b7d-4d9f-40a6-b2dc-acee84ddb9de",
   "metadata": {},
   "outputs": [],
   "source": [
    "str(sdate)"
   ]
  },
  {
   "cell_type": "markdown",
   "id": "88cc1dda-4145-4c84-94ac-f8b634f794cd",
   "metadata": {},
   "source": [
    "Define a list of all dates from start date to today and execute the API call for all dates that have not already been queried."
   ]
  },
  {
   "cell_type": "code",
   "execution_count": 6,
   "id": "5cadce4a-cb1c-4fb4-affb-3eb40ac7efbc",
   "metadata": {},
   "outputs": [
    {
     "name": "stdout",
     "output_type": "stream",
     "text": [
      "DatetimeIndex(['2020-04-16', '2020-04-17', '2020-04-18', '2020-04-19',\n",
      "               '2020-04-20', '2020-04-21', '2020-04-22', '2020-04-23',\n",
      "               '2020-04-24', '2020-04-25',\n",
      "               ...\n",
      "               '2022-04-15', '2022-04-16', '2022-04-17', '2022-04-18',\n",
      "               '2022-04-19', '2022-04-20', '2022-04-21', '2022-04-22',\n",
      "               '2022-04-23', '2022-04-24'],\n",
      "              dtype='datetime64[ns]', length=739, freq='D')\n"
     ]
    },
    {
     "ename": "NameError",
     "evalue": "name 'pd' is not defined",
     "output_type": "error",
     "traceback": [
      "\u001b[0;31m---------------------------------------------------------------------------\u001b[0m",
      "\u001b[0;31mNameError\u001b[0m                                 Traceback (most recent call last)",
      "Input \u001b[0;32mIn [6]\u001b[0m, in \u001b[0;36m<cell line: 10>\u001b[0;34m()\u001b[0m\n\u001b[1;32m      7\u001b[0m date_list \u001b[38;5;241m=\u001b[39m pandas\u001b[38;5;241m.\u001b[39mdate_range(sdate,edate\u001b[38;5;241m-\u001b[39mtimedelta(days\u001b[38;5;241m=\u001b[39m\u001b[38;5;241m1\u001b[39m),freq\u001b[38;5;241m=\u001b[39m\u001b[38;5;124m'\u001b[39m\u001b[38;5;124md\u001b[39m\u001b[38;5;124m'\u001b[39m)\n\u001b[1;32m      8\u001b[0m \u001b[38;5;28mprint\u001b[39m(date_list)\n\u001b[0;32m---> 10\u001b[0m media_items_df \u001b[38;5;241m=\u001b[39m \u001b[43mpd\u001b[49m\u001b[38;5;241m.\u001b[39mDataFrame()\n\u001b[1;32m     12\u001b[0m \u001b[38;5;28;01mfor\u001b[39;00m date \u001b[38;5;129;01min\u001b[39;00m date_list:\n\u001b[1;32m     15\u001b[0m     media_items_df \u001b[38;5;241m=\u001b[39m list_of_media_items(year \u001b[38;5;241m=\u001b[39m date\u001b[38;5;241m.\u001b[39myear, month \u001b[38;5;241m=\u001b[39m date\u001b[38;5;241m.\u001b[39mmonth, day \u001b[38;5;241m=\u001b[39m date\u001b[38;5;241m.\u001b[39mday, media_items_df \u001b[38;5;241m=\u001b[39m media_items_df)\n",
      "\u001b[0;31mNameError\u001b[0m: name 'pd' is not defined"
     ]
    }
   ],
   "source": [
    "import pandas\n",
    "from datetime import date, timedelta\n",
    "\n",
    "#create a list with all dates between start date and today\n",
    "sdate = date(2020,4,16)   # start date\n",
    "edate = date.today()\n",
    "date_list = pandas.date_range(sdate,edate-timedelta(days=1),freq='d')\n",
    "print(date_list)\n",
    "\n",
    "media_items_df = pd.DataFrame()\n",
    "\n",
    "for date in date_list:\n",
    "    \n",
    "    \n",
    "    media_items_df = list_of_media_items(year = date.year, month = date.month, day = date.day, media_items_df = media_items_df)\n",
    "\n",
    "#save a list of all media items to a csv file\n",
    "media_items_df.to_csv(f'./media_item_list/item-list-{str(sdate)}.csv', index=True)\n",
    "#media_items_df.to_csv('item-list-' + str(sdate) + r'.csv', index=True)\n",
    "media_items_df"
   ]
  },
  {
   "cell_type": "markdown",
   "id": "ce359905-f68a-4f3c-9647-ae5cb939f99e",
   "metadata": {},
   "source": [
    "## Download images"
   ]
  },
  {
   "cell_type": "code",
   "execution_count": null,
   "id": "56f0e130-f938-4742-916c-00ae50dc0199",
   "metadata": {},
   "outputs": [],
   "source": [
    "import requests\n",
    "url = media_items['mediaItems'][0]['productUrl']\n",
    "respons = requests.get(url)\n",
    "file_name = media_items['mediaItems'][0]['filename']\n",
    "with open(os.path.join(destination_folder, file_name), 'wb') as f:\n",
    "    f.write(response.content)\n",
    "    f.close()"
   ]
  },
  {
   "cell_type": "markdown",
   "id": "1570fc52-9d3a-4c8d-8e34-ad6015927adc",
   "metadata": {},
   "source": [
    "## Upload files to AWS"
   ]
  },
  {
   "cell_type": "code",
   "execution_count": null,
   "id": "69497c42-d6aa-4110-b6a2-2bf8e0d06d93",
   "metadata": {},
   "outputs": [],
   "source": [
    "import boto3\n",
    "\n",
    "client = boto3.client('s3', region_name='us-west-2')\n",
    "\n",
    "client.upload_file('images/image_0.jpg', 'mybucket', 'image_0.jpg')"
   ]
  },
  {
   "cell_type": "code",
   "execution_count": 1,
   "id": "d9e5a050-4fc8-4484-90f8-c7a1ba3ad104",
   "metadata": {},
   "outputs": [
    {
     "data": {
      "text/plain": [
       "5"
      ]
     },
     "execution_count": 1,
     "metadata": {},
     "output_type": "execute_result"
    }
   ],
   "source": [
    "1+4"
   ]
  }
 ],
 "metadata": {
  "kernelspec": {
   "display_name": "venv",
   "language": "python",
   "name": "venv"
  },
  "language_info": {
   "codemirror_mode": {
    "name": "ipython",
    "version": 3
   },
   "file_extension": ".py",
   "mimetype": "text/x-python",
   "name": "python",
   "nbconvert_exporter": "python",
   "pygments_lexer": "ipython3",
   "version": "3.10.4"
  }
 },
 "nbformat": 4,
 "nbformat_minor": 5
}
